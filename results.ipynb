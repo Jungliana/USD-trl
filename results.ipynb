{
 "cells": [
  {
   "cell_type": "code",
   "execution_count": 1,
   "metadata": {},
   "outputs": [],
   "source": [
    "import pandas as pd\n",
    "import matplotlib.pyplot as plt\n",
    "from pathlib import Path"
   ]
  },
  {
   "cell_type": "markdown",
   "metadata": {},
   "source": [
    "# Review training results analysis"
   ]
  },
  {
   "cell_type": "code",
   "execution_count": 2,
   "metadata": {},
   "outputs": [],
   "source": [
    "rv_human = pd.read_csv(Path(\"results\") / \"review\" / \"RV-human-result-2.csv\", sep=\"|\")\n",
    "rv_model = pd.read_csv(Path(\"results\") / \"review\" / \"RV-model-result-2.csv\", sep=\"|\")"
   ]
  },
  {
   "cell_type": "code",
   "execution_count": 3,
   "metadata": {},
   "outputs": [
    {
     "data": {
      "text/html": [
       "<div>\n",
       "<style scoped>\n",
       "    .dataframe tbody tr th:only-of-type {\n",
       "        vertical-align: middle;\n",
       "    }\n",
       "\n",
       "    .dataframe tbody tr th {\n",
       "        vertical-align: top;\n",
       "    }\n",
       "\n",
       "    .dataframe thead th {\n",
       "        text-align: right;\n",
       "    }\n",
       "</style>\n",
       "<table border=\"1\" class=\"dataframe\">\n",
       "  <thead>\n",
       "    <tr style=\"text-align: right;\">\n",
       "      <th></th>\n",
       "      <th>query</th>\n",
       "      <th>response_before</th>\n",
       "      <th>response_after</th>\n",
       "      <th>reward_before</th>\n",
       "      <th>reward_after</th>\n",
       "    </tr>\n",
       "  </thead>\n",
       "  <tbody>\n",
       "    <tr>\n",
       "      <th>365</th>\n",
       "      <td>So much for Sunday</td>\n",
       "      <td>So much for Sunday night since its closing in....</td>\n",
       "      <td>So much for Sunday's Seed Improvement to have ...</td>\n",
       "      <td>0.088181</td>\n",
       "      <td>0.112298</td>\n",
       "    </tr>\n",
       "    <tr>\n",
       "      <th>366</th>\n",
       "      <td>Attended a gun show</td>\n",
       "      <td>Attended a gun show and packing boxes.  Nice a...</td>\n",
       "      <td>Attended a gun show in Fairfield, the Grass Lo...</td>\n",
       "      <td>0.986764</td>\n",
       "      <td>0.207801</td>\n",
       "    </tr>\n",
       "    <tr>\n",
       "      <th>367</th>\n",
       "      <td>Food was delicious, portions</td>\n",
       "      <td>Food was delicious, portions were generous, an...</td>\n",
       "      <td>Food was delicious, portions were large, and p...</td>\n",
       "      <td>0.992590</td>\n",
       "      <td>0.985605</td>\n",
       "    </tr>\n",
       "    <tr>\n",
       "      <th>368</th>\n",
       "      <td>Love the ice cream</td>\n",
       "      <td>Love the ice cream (if you go with your two), ...</td>\n",
       "      <td>Love the ice cream choices... sprinkling on th...</td>\n",
       "      <td>0.991343</td>\n",
       "      <td>0.990005</td>\n",
       "    </tr>\n",
       "    <tr>\n",
       "      <th>369</th>\n",
       "      <td>Food was salty, service</td>\n",
       "      <td>Food was salty, service was great, food was de...</td>\n",
       "      <td>Food was salty, service was great, price was f...</td>\n",
       "      <td>0.982175</td>\n",
       "      <td>0.644295</td>\n",
       "    </tr>\n",
       "  </tbody>\n",
       "</table>\n",
       "</div>"
      ],
      "text/plain": [
       "                            query  \\\n",
       "365            So much for Sunday   \n",
       "366           Attended a gun show   \n",
       "367  Food was delicious, portions   \n",
       "368            Love the ice cream   \n",
       "369       Food was salty, service   \n",
       "\n",
       "                                       response_before  \\\n",
       "365  So much for Sunday night since its closing in....   \n",
       "366  Attended a gun show and packing boxes.  Nice a...   \n",
       "367  Food was delicious, portions were generous, an...   \n",
       "368  Love the ice cream (if you go with your two), ...   \n",
       "369  Food was salty, service was great, food was de...   \n",
       "\n",
       "                                        response_after  reward_before  \\\n",
       "365  So much for Sunday's Seed Improvement to have ...       0.088181   \n",
       "366  Attended a gun show in Fairfield, the Grass Lo...       0.986764   \n",
       "367  Food was delicious, portions were large, and p...       0.992590   \n",
       "368  Love the ice cream choices... sprinkling on th...       0.991343   \n",
       "369  Food was salty, service was great, price was f...       0.982175   \n",
       "\n",
       "     reward_after  \n",
       "365      0.112298  \n",
       "366      0.207801  \n",
       "367      0.985605  \n",
       "368      0.990005  \n",
       "369      0.644295  "
      ]
     },
     "execution_count": 3,
     "metadata": {},
     "output_type": "execute_result"
    }
   ],
   "source": [
    "rv_human.tail(5)"
   ]
  },
  {
   "cell_type": "code",
   "execution_count": 4,
   "metadata": {},
   "outputs": [
    {
     "data": {
      "text/html": [
       "<div>\n",
       "<style scoped>\n",
       "    .dataframe tbody tr th:only-of-type {\n",
       "        vertical-align: middle;\n",
       "    }\n",
       "\n",
       "    .dataframe tbody tr th {\n",
       "        vertical-align: top;\n",
       "    }\n",
       "\n",
       "    .dataframe thead th {\n",
       "        text-align: right;\n",
       "    }\n",
       "</style>\n",
       "<table border=\"1\" class=\"dataframe\">\n",
       "  <thead>\n",
       "    <tr style=\"text-align: right;\">\n",
       "      <th></th>\n",
       "      <th>query</th>\n",
       "      <th>response_before</th>\n",
       "      <th>response_after</th>\n",
       "      <th>reward_before</th>\n",
       "      <th>reward_after</th>\n",
       "    </tr>\n",
       "  </thead>\n",
       "  <tbody>\n",
       "    <tr>\n",
       "      <th>365</th>\n",
       "      <td>So much for Sunday</td>\n",
       "      <td>So much for Sunday night since its closing in....</td>\n",
       "      <td>So much for Sunday's Seed Improvement to have ...</td>\n",
       "      <td>0.088181</td>\n",
       "      <td>0.112298</td>\n",
       "    </tr>\n",
       "    <tr>\n",
       "      <th>366</th>\n",
       "      <td>Attended a gun show</td>\n",
       "      <td>Attended a gun show and packing boxes.  Nice a...</td>\n",
       "      <td>Attended a gun show in Fairfield, the Grass Lo...</td>\n",
       "      <td>0.986764</td>\n",
       "      <td>0.056415</td>\n",
       "    </tr>\n",
       "    <tr>\n",
       "      <th>367</th>\n",
       "      <td>Food was delicious, portions</td>\n",
       "      <td>Food was delicious, portions were generous, an...</td>\n",
       "      <td>Food was delicious, portions were a bit salty,...</td>\n",
       "      <td>0.992590</td>\n",
       "      <td>0.893181</td>\n",
       "    </tr>\n",
       "    <tr>\n",
       "      <th>368</th>\n",
       "      <td>Love the ice cream</td>\n",
       "      <td>Love the ice cream (if you go with your two), ...</td>\n",
       "      <td>Love the ice cream choices... sprinkling on th...</td>\n",
       "      <td>0.991343</td>\n",
       "      <td>0.990005</td>\n",
       "    </tr>\n",
       "    <tr>\n",
       "      <th>369</th>\n",
       "      <td>Food was salty, service</td>\n",
       "      <td>Food was salty, service was great, food was de...</td>\n",
       "      <td>Food was salty, service was great, price was f...</td>\n",
       "      <td>0.982175</td>\n",
       "      <td>0.644295</td>\n",
       "    </tr>\n",
       "  </tbody>\n",
       "</table>\n",
       "</div>"
      ],
      "text/plain": [
       "                            query  \\\n",
       "365            So much for Sunday   \n",
       "366           Attended a gun show   \n",
       "367  Food was delicious, portions   \n",
       "368            Love the ice cream   \n",
       "369       Food was salty, service   \n",
       "\n",
       "                                       response_before  \\\n",
       "365  So much for Sunday night since its closing in....   \n",
       "366  Attended a gun show and packing boxes.  Nice a...   \n",
       "367  Food was delicious, portions were generous, an...   \n",
       "368  Love the ice cream (if you go with your two), ...   \n",
       "369  Food was salty, service was great, food was de...   \n",
       "\n",
       "                                        response_after  reward_before  \\\n",
       "365  So much for Sunday's Seed Improvement to have ...       0.088181   \n",
       "366  Attended a gun show in Fairfield, the Grass Lo...       0.986764   \n",
       "367  Food was delicious, portions were a bit salty,...       0.992590   \n",
       "368  Love the ice cream choices... sprinkling on th...       0.991343   \n",
       "369  Food was salty, service was great, price was f...       0.982175   \n",
       "\n",
       "     reward_after  \n",
       "365      0.112298  \n",
       "366      0.056415  \n",
       "367      0.893181  \n",
       "368      0.990005  \n",
       "369      0.644295  "
      ]
     },
     "execution_count": 4,
     "metadata": {},
     "output_type": "execute_result"
    }
   ],
   "source": [
    "rv_model.tail(5)"
   ]
  },
  {
   "cell_type": "code",
   "execution_count": 5,
   "metadata": {},
   "outputs": [
    {
     "data": {
      "text/plain": [
       "0.7444358000481451"
      ]
     },
     "execution_count": 5,
     "metadata": {},
     "output_type": "execute_result"
    }
   ],
   "source": [
    "rv_human[\"reward_before\"].mean()"
   ]
  },
  {
   "cell_type": "code",
   "execution_count": 6,
   "metadata": {},
   "outputs": [
    {
     "data": {
      "text/plain": [
       "0.6447795136026233"
      ]
     },
     "execution_count": 6,
     "metadata": {},
     "output_type": "execute_result"
    }
   ],
   "source": [
    "rv_human[\"reward_after\"].mean()"
   ]
  },
  {
   "cell_type": "code",
   "execution_count": 7,
   "metadata": {},
   "outputs": [
    {
     "data": {
      "text/plain": [
       "0.6309739648509217"
      ]
     },
     "execution_count": 7,
     "metadata": {},
     "output_type": "execute_result"
    }
   ],
   "source": [
    "rv_model[\"reward_after\"].mean()"
   ]
  },
  {
   "cell_type": "code",
   "execution_count": 8,
   "metadata": {},
   "outputs": [
    {
     "data": {
      "text/plain": [
       "array([[<Axes: title={'center': 'reward_before'}>]], dtype=object)"
      ]
     },
     "execution_count": 8,
     "metadata": {},
     "output_type": "execute_result"
    },
    {
     "data": {
      "image/png": "[encoded data removed]",
      "text/plain": [
       "<Figure size 640x480 with 1 Axes>"
      ]
     },
     "metadata": {},
     "output_type": "display_data"
    }
   ],
   "source": [
    "rv_human.hist(column=\"reward_before\", bins=16)"
   ]
  },
  {
   "cell_type": "code",
   "execution_count": 9,
   "metadata": {},
   "outputs": [
    {
     "data": {
      "text/plain": [
       "array([[<Axes: title={'center': 'reward_after'}>]], dtype=object)"
      ]
     },
     "execution_count": 9,
     "metadata": {},
     "output_type": "execute_result"
    },
    {
     "data": {
      "image/png": "[encoded data removed]",
      "text/plain": [
       "<Figure size 640x480 with 1 Axes>"
      ]
     },
     "metadata": {},
     "output_type": "display_data"
    }
   ],
   "source": [
    "rv_human.hist(column=\"reward_after\", bins=16)"
   ]
  },
  {
   "cell_type": "code",
   "execution_count": 10,
   "metadata": {},
   "outputs": [
    {
     "data": {
      "text/plain": [
       "array([[<Axes: title={'center': 'reward_after'}>]], dtype=object)"
      ]
     },
     "execution_count": 10,
     "metadata": {},
     "output_type": "execute_result"
    },
    {
     "data": {
      "image/png": "[encoded data removed]",
      "text/plain": [
       "<Figure size 640x480 with 1 Axes>"
      ]
     },
     "metadata": {},
     "output_type": "display_data"
    }
   ],
   "source": [
    "rv_model.hist(column=\"reward_after\", bins=16)"
   ]
  },
  {
   "cell_type": "markdown",
   "metadata": {},
   "source": [
    "# Translation training results analysis"
   ]
  },
  {
   "cell_type": "code",
   "execution_count": 11,
   "metadata": {},
   "outputs": [],
   "source": [
    "mt_human = pd.read_csv(Path(\"results\") / \"translation\" / \"MT-human-result.csv\", sep=\"|\")\n",
    "mt_model = pd.read_csv(Path(\"results\") / \"translation\" / \"MT-model-result.csv\", sep=\"|\")"
   ]
  },
  {
   "cell_type": "code",
   "execution_count": 12,
   "metadata": {},
   "outputs": [
    {
     "data": {
      "text/html": [
       "<div>\n",
       "<style scoped>\n",
       "    .dataframe tbody tr th:only-of-type {\n",
       "        vertical-align: middle;\n",
       "    }\n",
       "\n",
       "    .dataframe tbody tr th {\n",
       "        vertical-align: top;\n",
       "    }\n",
       "\n",
       "    .dataframe thead th {\n",
       "        text-align: right;\n",
       "    }\n",
       "</style>\n",
       "<table border=\"1\" class=\"dataframe\">\n",
       "  <thead>\n",
       "    <tr style=\"text-align: right;\">\n",
       "      <th></th>\n",
       "      <th>query</th>\n",
       "      <th>response_before</th>\n",
       "      <th>response_after</th>\n",
       "      <th>reward_before</th>\n",
       "      <th>reward_after</th>\n",
       "    </tr>\n",
       "  </thead>\n",
       "  <tbody>\n",
       "    <tr>\n",
       "      <th>0</th>\n",
       "      <td>A szczerze mówiąc stoję w martwym punkcie.</td>\n",
       "      <td>And frankly, I'm at a dead end.</td>\n",
       "      <td>And to be honest, I'm at a dead end.</td>\n",
       "      <td>0.038462</td>\n",
       "      <td>0.239427</td>\n",
       "    </tr>\n",
       "    <tr>\n",
       "      <th>1</th>\n",
       "      <td>Wygląda na to że znalazłeś mi dobrego rozgrywa...</td>\n",
       "      <td>Looks like you found me a good quarterback for...</td>\n",
       "      <td>Looks like you found me a good quarterback for...</td>\n",
       "      <td>0.719786</td>\n",
       "      <td>0.719786</td>\n",
       "    </tr>\n",
       "    <tr>\n",
       "      <th>2</th>\n",
       "      <td>Jego organy przestaną pracować, jeśli go nie o...</td>\n",
       "      <td>His organs will stop working if we don't keep ...</td>\n",
       "      <td>His organs will stop working if we don't keep ...</td>\n",
       "      <td>0.166667</td>\n",
       "      <td>0.166667</td>\n",
       "    </tr>\n",
       "    <tr>\n",
       "      <th>3</th>\n",
       "      <td>Panowie, jestem pewny, że znaleźliśmy to, czeg...</td>\n",
       "      <td>Gentlemen, I'm sure we found what you're looki...</td>\n",
       "      <td>Gentlemen, I'm sure we found what you're looki...</td>\n",
       "      <td>0.821307</td>\n",
       "      <td>0.821307</td>\n",
       "    </tr>\n",
       "    <tr>\n",
       "      <th>4</th>\n",
       "      <td>To ma sens, toksyny są przenoszone przez wiatr...</td>\n",
       "      <td>Makes sense. The toxins are transmitted by the...</td>\n",
       "      <td>It makes sense, the toxins are transmitted by ...</td>\n",
       "      <td>0.125000</td>\n",
       "      <td>0.501217</td>\n",
       "    </tr>\n",
       "  </tbody>\n",
       "</table>\n",
       "</div>"
      ],
      "text/plain": [
       "                                               query  \\\n",
       "0         A szczerze mówiąc stoję w martwym punkcie.   \n",
       "1  Wygląda na to że znalazłeś mi dobrego rozgrywa...   \n",
       "2  Jego organy przestaną pracować, jeśli go nie o...   \n",
       "3  Panowie, jestem pewny, że znaleźliśmy to, czeg...   \n",
       "4  To ma sens, toksyny są przenoszone przez wiatr...   \n",
       "\n",
       "                                     response_before  \\\n",
       "0                    And frankly, I'm at a dead end.   \n",
       "1  Looks like you found me a good quarterback for...   \n",
       "2  His organs will stop working if we don't keep ...   \n",
       "3  Gentlemen, I'm sure we found what you're looki...   \n",
       "4  Makes sense. The toxins are transmitted by the...   \n",
       "\n",
       "                                      response_after  reward_before  \\\n",
       "0               And to be honest, I'm at a dead end.       0.038462   \n",
       "1  Looks like you found me a good quarterback for...       0.719786   \n",
       "2  His organs will stop working if we don't keep ...       0.166667   \n",
       "3  Gentlemen, I'm sure we found what you're looki...       0.821307   \n",
       "4  It makes sense, the toxins are transmitted by ...       0.125000   \n",
       "\n",
       "   reward_after  \n",
       "0      0.239427  \n",
       "1      0.719786  \n",
       "2      0.166667  \n",
       "3      0.821307  \n",
       "4      0.501217  "
      ]
     },
     "execution_count": 12,
     "metadata": {},
     "output_type": "execute_result"
    }
   ],
   "source": [
    "mt_human.head(5)"
   ]
  },
  {
   "cell_type": "code",
   "execution_count": 13,
   "metadata": {},
   "outputs": [
    {
     "data": {
      "text/html": [
       "<div>\n",
       "<style scoped>\n",
       "    .dataframe tbody tr th:only-of-type {\n",
       "        vertical-align: middle;\n",
       "    }\n",
       "\n",
       "    .dataframe tbody tr th {\n",
       "        vertical-align: top;\n",
       "    }\n",
       "\n",
       "    .dataframe thead th {\n",
       "        text-align: right;\n",
       "    }\n",
       "</style>\n",
       "<table border=\"1\" class=\"dataframe\">\n",
       "  <thead>\n",
       "    <tr style=\"text-align: right;\">\n",
       "      <th></th>\n",
       "      <th>query</th>\n",
       "      <th>response_before</th>\n",
       "      <th>response_after</th>\n",
       "      <th>reward_before</th>\n",
       "      <th>reward_after</th>\n",
       "    </tr>\n",
       "  </thead>\n",
       "  <tbody>\n",
       "    <tr>\n",
       "      <th>0</th>\n",
       "      <td>A szczerze mówiąc stoję w martwym punkcie.</td>\n",
       "      <td>And frankly, I'm at a dead end.</td>\n",
       "      <td>And to be honest, I'm at a dead end.</td>\n",
       "      <td>0.038462</td>\n",
       "      <td>0.239427</td>\n",
       "    </tr>\n",
       "    <tr>\n",
       "      <th>1</th>\n",
       "      <td>Wygląda na to że znalazłeś mi dobrego rozgrywa...</td>\n",
       "      <td>Looks like you found me a good quarterback for...</td>\n",
       "      <td>Looks like you found me a good quarterback for...</td>\n",
       "      <td>0.719786</td>\n",
       "      <td>0.719786</td>\n",
       "    </tr>\n",
       "    <tr>\n",
       "      <th>2</th>\n",
       "      <td>Jego organy przestaną pracować, jeśli go nie o...</td>\n",
       "      <td>His organs will stop working if we don't keep ...</td>\n",
       "      <td>His organs will stop working if we don't keep ...</td>\n",
       "      <td>0.166667</td>\n",
       "      <td>0.166667</td>\n",
       "    </tr>\n",
       "    <tr>\n",
       "      <th>3</th>\n",
       "      <td>Panowie, jestem pewny, że znaleźliśmy to, czeg...</td>\n",
       "      <td>Gentlemen, I'm sure we found what you're looki...</td>\n",
       "      <td>Gentlemen, I'm sure we found what you're looki...</td>\n",
       "      <td>0.821307</td>\n",
       "      <td>0.821307</td>\n",
       "    </tr>\n",
       "    <tr>\n",
       "      <th>4</th>\n",
       "      <td>To ma sens, toksyny są przenoszone przez wiatr...</td>\n",
       "      <td>Makes sense. The toxins are transmitted by the...</td>\n",
       "      <td>It makes sense, toxins are transmitted by the ...</td>\n",
       "      <td>0.125000</td>\n",
       "      <td>0.393826</td>\n",
       "    </tr>\n",
       "  </tbody>\n",
       "</table>\n",
       "</div>"
      ],
      "text/plain": [
       "                                               query  \\\n",
       "0         A szczerze mówiąc stoję w martwym punkcie.   \n",
       "1  Wygląda na to że znalazłeś mi dobrego rozgrywa...   \n",
       "2  Jego organy przestaną pracować, jeśli go nie o...   \n",
       "3  Panowie, jestem pewny, że znaleźliśmy to, czeg...   \n",
       "4  To ma sens, toksyny są przenoszone przez wiatr...   \n",
       "\n",
       "                                     response_before  \\\n",
       "0                    And frankly, I'm at a dead end.   \n",
       "1  Looks like you found me a good quarterback for...   \n",
       "2  His organs will stop working if we don't keep ...   \n",
       "3  Gentlemen, I'm sure we found what you're looki...   \n",
       "4  Makes sense. The toxins are transmitted by the...   \n",
       "\n",
       "                                      response_after  reward_before  \\\n",
       "0               And to be honest, I'm at a dead end.       0.038462   \n",
       "1  Looks like you found me a good quarterback for...       0.719786   \n",
       "2  His organs will stop working if we don't keep ...       0.166667   \n",
       "3  Gentlemen, I'm sure we found what you're looki...       0.821307   \n",
       "4  It makes sense, toxins are transmitted by the ...       0.125000   \n",
       "\n",
       "   reward_after  \n",
       "0      0.239427  \n",
       "1      0.719786  \n",
       "2      0.166667  \n",
       "3      0.821307  \n",
       "4      0.393826  "
      ]
     },
     "execution_count": 13,
     "metadata": {},
     "output_type": "execute_result"
    }
   ],
   "source": [
    "mt_model.head(5)"
   ]
  },
  {
   "cell_type": "code",
   "execution_count": 14,
   "metadata": {},
   "outputs": [
    {
     "data": {
      "text/plain": [
       "0.4513276056512385"
      ]
     },
     "execution_count": 14,
     "metadata": {},
     "output_type": "execute_result"
    }
   ],
   "source": [
    "mt_human[\"reward_before\"].mean()"
   ]
  },
  {
   "cell_type": "code",
   "execution_count": 15,
   "metadata": {},
   "outputs": [
    {
     "data": {
      "text/plain": [
       "0.44406319812342926"
      ]
     },
     "execution_count": 15,
     "metadata": {},
     "output_type": "execute_result"
    }
   ],
   "source": [
    "mt_human[\"reward_after\"].mean()"
   ]
  },
  {
   "cell_type": "code",
   "execution_count": 16,
   "metadata": {},
   "outputs": [
    {
     "data": {
      "text/plain": [
       "0.45258815133491076"
      ]
     },
     "execution_count": 16,
     "metadata": {},
     "output_type": "execute_result"
    }
   ],
   "source": [
    "mt_model[\"reward_after\"].mean()"
   ]
  },
  {
   "cell_type": "code",
   "execution_count": 17,
   "metadata": {},
   "outputs": [
    {
     "data": {
      "text/plain": [
       "array([[<Axes: title={'center': 'reward_before'}>]], dtype=object)"
      ]
     },
     "execution_count": 17,
     "metadata": {},
     "output_type": "execute_result"
    },
    {
     "data": {
      "image/png": "[encoded data removed]",
      "text/plain": [
       "<Figure size 640x480 with 1 Axes>"
      ]
     },
     "metadata": {},
     "output_type": "display_data"
    }
   ],
   "source": [
    "mt_human.hist(column=\"reward_before\", bins=20)"
   ]
  },
  {
   "cell_type": "code",
   "execution_count": 18,
   "metadata": {},
   "outputs": [
    {
     "data": {
      "text/plain": [
       "array([[<Axes: title={'center': 'reward_after'}>]], dtype=object)"
      ]
     },
     "execution_count": 18,
     "metadata": {},
     "output_type": "execute_result"
    },
    {
     "data": {
      "image/png": "[encoded data removed]",
      "text/plain": [
       "<Figure size 640x480 with 1 Axes>"
      ]
     },
     "metadata": {},
     "output_type": "display_data"
    }
   ],
   "source": [
    "mt_human.hist(column=\"reward_after\", bins=20)"
   ]
  },
  {
   "cell_type": "code",
   "execution_count": 19,
   "metadata": {},
   "outputs": [
    {
     "data": {
      "text/plain": [
       "array([[<Axes: title={'center': 'reward_after'}>]], dtype=object)"
      ]
     },
     "execution_count": 19,
     "metadata": {},
     "output_type": "execute_result"
    },
    {
     "data": {
      "image/png": "[encoded data removed]",
      "text/plain": [
       "<Figure size 640x480 with 1 Axes>"
      ]
     },
     "metadata": {},
     "output_type": "display_data"
    }
   ],
   "source": [
    "mt_model.hist(column=\"reward_after\", bins=20)"
   ]
  }
 ],
 "metadata": {
  "kernelspec": {
   "display_name": ".venv",
   "language": "python",
   "name": "python3"
  },
  "language_info": {
   "codemirror_mode": {
    "name": "ipython",
    "version": 3
   },
   "file_extension": ".py",
   "mimetype": "text/x-python",
   "name": "python",
   "nbconvert_exporter": "python",
   "pygments_lexer": "ipython3",
   "version": "3.10.11"
  }
 },
 "nbformat": 4,
 "nbformat_minor": 2
}
