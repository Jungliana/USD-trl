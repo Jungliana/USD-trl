{
 "cells": [
  {
   "cell_type": "code",
   "execution_count": 13,
   "metadata": {},
   "outputs": [],
   "source": [
    "# imports\n",
    "import torch\n",
    "import evaluate\n",
    "import pandas as pd\n",
    "from sklearn.model_selection import train_test_split\n",
    "from transformers import AutoTokenizer\n",
    "from trl import PPOTrainer, PPOConfig, AutoModelForSeq2SeqLMWithValueHead, create_reference_model\n",
    "\n",
    "from src.constants import MT_MODEL, MT_DATA_FILE, MT_SEED\n",
    "from src.metrics import translation_reward"
   ]
  },
  {
   "cell_type": "code",
   "execution_count": 14,
   "metadata": {},
   "outputs": [
    {
     "data": {
      "text/plain": [
       "0"
      ]
     },
     "execution_count": 14,
     "metadata": {},
     "output_type": "execute_result"
    }
   ],
   "source": [
    "device = torch.device('cuda' if torch.cuda.is_available() else 'cpu')\n",
    "device"
   ]
  },
  {
   "cell_type": "code",
   "execution_count": 15,
   "metadata": {},
   "outputs": [],
   "source": [
    "translations = pd.read_csv(MT_DATA_FILE)\n",
    "train_dataset, test_dataset = train_test_split(translations, test_size=0.8, random_state=MT_SEED)"
   ]
  },
  {
   "cell_type": "code",
   "execution_count": 16,
   "metadata": {},
   "outputs": [
    {
     "name": "stderr",
     "output_type": "stream",
     "text": [
      "c:\\Users\\aleks\\Documents\\Moje dokumenty\\Studia\\Semestr 9\\USD\\USD-trl\\.venv\\lib\\site-packages\\transformers\\models\\marian\\tokenization_marian.py:197: UserWarning: Recommended: pip install sacremoses.\n",
      "  warnings.warn(\"Recommended: pip install sacremoses.\")\n",
      "c:\\Users\\aleks\\Documents\\Moje dokumenty\\Studia\\Semestr 9\\USD\\USD-trl\\.venv\\lib\\site-packages\\trl\\trainer\\ppo_trainer.py:257: UserWarning: No dataset is provided. Make sure to set config.batch_size to the correct value before training.\n",
      "  warnings.warn(\n"
     ]
    }
   ],
   "source": [
    "# get models\n",
    "model = AutoModelForSeq2SeqLMWithValueHead.from_pretrained(MT_MODEL).to(device)\n",
    "model_ref = create_reference_model(model).to(device)\n",
    "\n",
    "tokenizer = AutoTokenizer.from_pretrained(MT_MODEL)\n",
    "\n",
    "# initialize trainer\n",
    "ppo_config = PPOConfig(\n",
    "    batch_size=1,\n",
    "    learning_rate=1.41e-5,\n",
    "    #log_with=\"wandb\",\n",
    ")\n",
    "\n",
    "# create a ppo trainer\n",
    "ppo_trainer = PPOTrainer(ppo_config, model, model_ref, tokenizer)\n",
    "\n",
    "# reward model\n",
    "bleu = evaluate.load(\"bleu\")"
   ]
  },
  {
   "cell_type": "code",
   "execution_count": 17,
   "metadata": {},
   "outputs": [
    {
     "name": "stdout",
     "output_type": "stream",
     "text": [
      "\n",
      "----------------------------\n",
      "Source sentence: Wszystko co wiecie o historii to kłamstwo. Na przykład:\n",
      "Target sentence: Everything you think you know about history is a lie.\n",
      "Response sentence: All you know about history is a lie.\n",
      "Reward: 0.6956543326377869\n"
     ]
    },
    {
     "name": "stderr",
     "output_type": "stream",
     "text": [
      "c:\\Users\\aleks\\Documents\\Moje dokumenty\\Studia\\Semestr 9\\USD\\USD-trl\\.venv\\lib\\site-packages\\trl\\trainer\\ppo_trainer.py:1334: UserWarning: The game logs will not be logged because the batch does not contain the keys 'query' and 'response'. \n",
      "  warnings.warn(\n"
     ]
    },
    {
     "name": "stdout",
     "output_type": "stream",
     "text": [
      "\n",
      "----------------------------\n",
      "Source sentence: Pewnie słyszał pan o sprawie Gabby Stone? Pan z Departamentu Sprawiedliwości?\n",
      "Target sentence: I'm sure you've heard about the investigation regarding Gabby Stone.\n",
      "Response sentence: You've probably heard of the Gabby Stone case?\n",
      "Reward: 0.10000000149011612\n",
      "\n",
      "----------------------------\n",
      "Source sentence: Joey jest bardzo lojalny, ale nie masz pojęcia, ilu tam jest teraz wyznawców.\n",
      "Target sentence: Joey is very loyal, but you have no idea how many followers are out there now.\n",
      "Response sentence: Joey is very loyal, but you have no idea how many followers there are now.\n",
      "Reward: 0.8495285511016846\n",
      "\n",
      "----------------------------\n",
      "Source sentence: Następne płatności dokonywane są zgodnie z zasadami przewidzianymi w art. 10.\n",
      "Target sentence: Subsequent payments shall be made in accordance with the rules provided for in Article 10.\n",
      "Response sentence: The following payments shall be made in accordance with the rules provided for in Article 10.\n",
      "Reward: 0.8413698673248291\n",
      "\n",
      "----------------------------\n",
      "Source sentence: Byłoby miło, gdyby działały, ale silniki i nawigacja nie działają.\n",
      "Target sentence: It would be great if they were working, but sub-light and navigation are out.\n",
      "Response sentence: It would be nice if it worked, but the engines and navigation aren't working.\n",
      "Reward: 0.1666666716337204\n",
      "\n",
      "----------------------------\n",
      "Source sentence: Dlatego tata nie poszedł na pogrzeb dziadka, a ja nie pójdę na pogrzeb taty.\n",
      "Target sentence: I... am... immortal! Oh, that's great, honey. Set me up with the whole schmeer.\n",
      "Response sentence: That's why Dad didn't go to Grandpa's funeral, and I'm not going to Dad's funeral.\n",
      "Reward: 0.0\n",
      "\n",
      "----------------------------\n",
      "Source sentence: Nie dam wam kolejnej szansy, jeśli jeszcze raz zobaczę was razem.\n",
      "Target sentence: You know What are the consequences you do this?\n",
      "Response sentence: I'm not gonna give you another chance if I see you two again.\n",
      "Reward: 0.02500000037252903\n",
      "\n",
      "----------------------------\n",
      "Source sentence: Wiedziałem, że nie będziesz się cieszył wraz ze mną.\n",
      "Target sentence: I should have known you couldn't be happy for me.\n",
      "Response sentence: I knew you wouldn't be happy for me.\n",
      "Reward: 0.4443757236003876\n",
      "\n",
      "----------------------------\n",
      "Source sentence: /Dobra, odezwij się na Bobworth, /na prawo od South Main Street.\n",
      "Target sentence: All right. Call me on Bobworth, off of South Main Street.\n",
      "Response sentence: Okay, call Bobworth, right of South Main Street.\n",
      "Reward: 0.33738863468170166\n",
      "\n",
      "----------------------------\n",
      "Source sentence: Więc powiem \"Co pan czuł podczas tego... podczas tego...\"\n",
      "Target sentence: - No. You don't want to say that. - Right, right.\n",
      "Response sentence: So I'm gonna say, \"What did you feel during this... during this...\n",
      "Reward: 0.0\n",
      "\n",
      "----------------------------\n",
      "Source sentence: Ciężko było patrzeć na Bay, nie wiedząc i nie będąc w stanie nijak jej pomóc.\n",
      "Target sentence: It was so hard watching Bay not knowing and not being able to do anything to help her.\n",
      "Response sentence: It was hard to look at Bay without knowing and not being able to help her.\n",
      "Reward: 0.5290079712867737\n"
     ]
    },
    {
     "name": "stderr",
     "output_type": "stream",
     "text": [
      "c:\\Users\\aleks\\Documents\\Moje dokumenty\\Studia\\Semestr 9\\USD\\USD-trl\\.venv\\lib\\site-packages\\trl\\trainer\\ppo_trainer.py:1271: UserWarning: KL divergence is starting to become negative: -1.57 - this might be a precursor for failed training. sometimes this happens because the generation kwargs are not correctly set. Please make sure that the generation kwargs are set correctly, or review your training hyperparameters.\n",
      "  warnings.warn(\n"
     ]
    },
    {
     "name": "stdout",
     "output_type": "stream",
     "text": [
      "\n",
      "----------------------------\n",
      "Source sentence: w języku węgierskim: Fizikai ellenőrzés elvégezve [2535/2001/EK rendelet],\n",
      "Target sentence: in Hungarian: Fizikai ellenőrzés elvégezve (2535/2001/EK rendelet),\n",
      "Response sentence: in Hungarian: Fizikai ellenőrzés elvégezve [2535/2001/EK rendelet],\n",
      "Reward: 0.6080942153930664\n",
      "\n",
      "----------------------------\n",
      "Source sentence: Możemy dziękować Bogu, że nie było większej tragedii.\n",
      "Target sentence: And we can just thank God the tragedy wasn't worse.\n",
      "Response sentence: We can thank God that there was no greater tragedy.\n",
      "Reward: 0.0882352963089943\n",
      "\n",
      "----------------------------\n",
      "Source sentence: Bo jesteś kobietą moich marzeń i zasługujesz na idealne oświadczyny.\n",
      "Target sentence: 'cause you're the woman of my dreams And you deserve the perfect proposal.\n",
      "Response sentence: Because you're a woman of my dreams and you deserve a perfect proposal.\n",
      "Reward: 0.4471047818660736\n"
     ]
    },
    {
     "name": "stderr",
     "output_type": "stream",
     "text": [
      "c:\\Users\\aleks\\Documents\\Moje dokumenty\\Studia\\Semestr 9\\USD\\USD-trl\\.venv\\lib\\site-packages\\trl\\trainer\\ppo_trainer.py:1271: UserWarning: KL divergence is starting to become negative: -1.04 - this might be a precursor for failed training. sometimes this happens because the generation kwargs are not correctly set. Please make sure that the generation kwargs are set correctly, or review your training hyperparameters.\n",
      "  warnings.warn(\n"
     ]
    },
    {
     "name": "stdout",
     "output_type": "stream",
     "text": [
      "\n",
      "----------------------------\n",
      "Source sentence: Dziesiąta rocznica to jest jaka -- brązowa, marmurowa, paździerzowa?\n",
      "Target sentence: Bronze? Sandstone? Particleboard?\n",
      "Response sentence: The tenth anniversary is what -- brown, marble, October?\n",
      "Reward: 0.0\n",
      "\n",
      "----------------------------\n",
      "Source sentence: - Królowa Matka postanowiła pójść na dno wraz ze statkiem.\n",
      "Target sentence: - The Queen Mother has elected to go down with the ship.\n",
      "Response sentence: The Queen Mother has decided to go down with the ship.\n",
      "Reward: 0.7226806282997131\n"
     ]
    },
    {
     "name": "stderr",
     "output_type": "stream",
     "text": [
      "c:\\Users\\aleks\\Documents\\Moje dokumenty\\Studia\\Semestr 9\\USD\\USD-trl\\.venv\\lib\\site-packages\\trl\\trainer\\ppo_trainer.py:1271: UserWarning: KL divergence is starting to become negative: -1.32 - this might be a precursor for failed training. sometimes this happens because the generation kwargs are not correctly set. Please make sure that the generation kwargs are set correctly, or review your training hyperparameters.\n",
      "  warnings.warn(\n"
     ]
    },
    {
     "name": "stdout",
     "output_type": "stream",
     "text": [
      "\n",
      "----------------------------\n",
      "Source sentence: Wprawimy to w ruch i będziemy spodziewać się sukcesu\n",
      "Target sentence: We'll set it going and hope for the best\n",
      "Response sentence: We're gonna get this thing moving and we're gonna expect success.\n",
      "Reward: 0.02777777798473835\n"
     ]
    },
    {
     "name": "stderr",
     "output_type": "stream",
     "text": [
      "c:\\Users\\aleks\\Documents\\Moje dokumenty\\Studia\\Semestr 9\\USD\\USD-trl\\.venv\\lib\\site-packages\\trl\\trainer\\ppo_trainer.py:1271: UserWarning: KL divergence is starting to become negative: -2.89 - this might be a precursor for failed training. sometimes this happens because the generation kwargs are not correctly set. Please make sure that the generation kwargs are set correctly, or review your training hyperparameters.\n",
      "  warnings.warn(\n"
     ]
    },
    {
     "name": "stdout",
     "output_type": "stream",
     "text": [
      "\n",
      "----------------------------\n",
      "Source sentence: Chce pani usłyszeć wróżbę wartą tych 10 $ za wizytę?\n",
      "Target sentence: You want your $10 of psychic prediction?\n",
      "Response sentence: You want to hear a fortune worth $10 a visit?\n",
      "Reward: 0.11538461595773697\n",
      "\n",
      "----------------------------\n",
      "Source sentence: To nie chwila, która chciałem, żeby trwała wiecznie!\n",
      "Target sentence: This isn't the moment I wanted to last forever!\n",
      "Response sentence: It's not the moment I wanted it to last!\n",
      "Reward: 0.3546416461467743\n"
     ]
    },
    {
     "name": "stderr",
     "output_type": "stream",
     "text": [
      "c:\\Users\\aleks\\Documents\\Moje dokumenty\\Studia\\Semestr 9\\USD\\USD-trl\\.venv\\lib\\site-packages\\trl\\trainer\\ppo_trainer.py:1271: UserWarning: KL divergence is starting to become negative: -1.12 - this might be a precursor for failed training. sometimes this happens because the generation kwargs are not correctly set. Please make sure that the generation kwargs are set correctly, or review your training hyperparameters.\n",
      "  warnings.warn(\n"
     ]
    },
    {
     "name": "stdout",
     "output_type": "stream",
     "text": [
      "\n",
      "----------------------------\n",
      "Source sentence: Moja klientka miała styczność z trojgiem pacjentów.\n",
      "Target sentence: My client touched three patients.\n",
      "Response sentence: My client was in contact with three patients.\n",
      "Reward: 0.2222222238779068\n",
      "\n",
      "----------------------------\n",
      "Source sentence: Tak, i musieliśmy go puścić godzinę przed zaginięciem Peck.\n",
      "Target sentence: Yeah, and we let him go about an hour before Peck went missing.\n",
      "Response sentence: Yes, and we had to let him go an hour before Peck went missing.\n",
      "Reward: 0.6123924851417542\n"
     ]
    },
    {
     "name": "stderr",
     "output_type": "stream",
     "text": [
      "c:\\Users\\aleks\\Documents\\Moje dokumenty\\Studia\\Semestr 9\\USD\\USD-trl\\.venv\\lib\\site-packages\\trl\\trainer\\ppo_trainer.py:1271: UserWarning: KL divergence is starting to become negative: -2.27 - this might be a precursor for failed training. sometimes this happens because the generation kwargs are not correctly set. Please make sure that the generation kwargs are set correctly, or review your training hyperparameters.\n",
      "  warnings.warn(\n"
     ]
    },
    {
     "name": "stdout",
     "output_type": "stream",
     "text": [
      "\n",
      "----------------------------\n",
      "Source sentence: To wywołuje panikę i histerie. Szczerze mówiąc, jest dla nas niekorzystne.\n",
      "Target sentence: Creates panic and hysteria,and frankly,it's bad for business.\n",
      "Response sentence: It's causing panic and hysteria.\n",
      "Reward: 0.09090909361839294\n",
      "\n",
      "----------------------------\n",
      "Source sentence: Nigdy nie pozwoliłam nikomu się dowiedzieć kim naprawdę jestem.\n",
      "Target sentence: I've never let anyone know who I really am.\n",
      "Response sentence: I never let anyone know who I really am.\n",
      "Reward: 0.8845003247261047\n"
     ]
    },
    {
     "name": "stderr",
     "output_type": "stream",
     "text": [
      "c:\\Users\\aleks\\Documents\\Moje dokumenty\\Studia\\Semestr 9\\USD\\USD-trl\\.venv\\lib\\site-packages\\trl\\trainer\\ppo_trainer.py:1271: UserWarning: KL divergence is starting to become negative: -1.55 - this might be a precursor for failed training. sometimes this happens because the generation kwargs are not correctly set. Please make sure that the generation kwargs are set correctly, or review your training hyperparameters.\n",
      "  warnings.warn(\n"
     ]
    },
    {
     "name": "stdout",
     "output_type": "stream",
     "text": [
      "\n",
      "----------------------------\n",
      "Source sentence: Dostaniesz maksymalnie 5 lat i będziesz mógł wyjść warunkowo.\n",
      "Target sentence: You'll get five years max and you'll be eligible for parole.\n",
      "Response sentence: You'll get a maximum of 5 years and you can get out on parole.\n",
      "Reward: 0.1315789520740509\n",
      "\n",
      "----------------------------\n",
      "Source sentence: Bardzo się zdziwił, kiedy wpadłem do tej restauracji... i rozbiłem mu nos!\n",
      "Target sentence: And imagine his surprise when I dropped in at the restaurant today... and punched him in the face.\n",
      "Response sentence: He was so surprised when I stopped by this restaurant... and I broke his nose!\n",
      "Reward: 0.14607328176498413\n",
      "\n",
      "----------------------------\n",
      "Source sentence: Chciałam jej w odosobnieniu przez resztę jej życia.\n",
      "Target sentence: I want her to be in solitary confinement for the rest of her life.\n",
      "Response sentence: I wanted her in isolation for the rest of her life.\n",
      "Reward: 0.4861934781074524\n",
      "\n",
      "----------------------------\n",
      "Source sentence: Rozumiem, że nie chcesz do mnie dołączyć, ale pozwól, że cię o coś zapytam.\n",
      "Target sentence: If you don't want to join the knee-Jerk ticker-Tape parade,\n",
      "Response sentence: I understand you don't want to join me, but let me ask you something.\n",
      "Reward: 0.258698046207428\n"
     ]
    },
    {
     "name": "stderr",
     "output_type": "stream",
     "text": [
      "c:\\Users\\aleks\\Documents\\Moje dokumenty\\Studia\\Semestr 9\\USD\\USD-trl\\.venv\\lib\\site-packages\\trl\\trainer\\ppo_trainer.py:1271: UserWarning: KL divergence is starting to become negative: -1.72 - this might be a precursor for failed training. sometimes this happens because the generation kwargs are not correctly set. Please make sure that the generation kwargs are set correctly, or review your training hyperparameters.\n",
      "  warnings.warn(\n"
     ]
    },
    {
     "name": "stdout",
     "output_type": "stream",
     "text": [
      "\n",
      "----------------------------\n",
      "Source sentence: - Obejrzyjmy kilka scen, które niektórym z nas nie poszły zbyt dobrze.\n",
      "Target sentence: - Let's take a look at some moments that didn't go too well for a couple of us. - Uh-oh!\n",
      "Response sentence: - Let's watch a few scenes that didn't go very well for some of us.\n",
      "Reward: 0.25\n"
     ]
    },
    {
     "name": "stderr",
     "output_type": "stream",
     "text": [
      "c:\\Users\\aleks\\Documents\\Moje dokumenty\\Studia\\Semestr 9\\USD\\USD-trl\\.venv\\lib\\site-packages\\trl\\trainer\\ppo_trainer.py:1271: UserWarning: KL divergence is starting to become negative: -2.62 - this might be a precursor for failed training. sometimes this happens because the generation kwargs are not correctly set. Please make sure that the generation kwargs are set correctly, or review your training hyperparameters.\n",
      "  warnings.warn(\n"
     ]
    },
    {
     "name": "stdout",
     "output_type": "stream",
     "text": [
      "\n",
      "----------------------------\n",
      "Source sentence: I dlatego spotyka się z tobą tutaj, a nie u siebie, świetnie.\n",
      "Target sentence: So he comes here, instead of you going to his place.\n",
      "Response sentence: And that's why he's meeting you here and not at his place, great.\n",
      "Reward: 0.04545454680919647\n"
     ]
    },
    {
     "name": "stderr",
     "output_type": "stream",
     "text": [
      "c:\\Users\\aleks\\Documents\\Moje dokumenty\\Studia\\Semestr 9\\USD\\USD-trl\\.venv\\lib\\site-packages\\trl\\trainer\\ppo_trainer.py:1271: UserWarning: KL divergence is starting to become negative: -1.50 - this might be a precursor for failed training. sometimes this happens because the generation kwargs are not correctly set. Please make sure that the generation kwargs are set correctly, or review your training hyperparameters.\n",
      "  warnings.warn(\n"
     ]
    },
    {
     "name": "stdout",
     "output_type": "stream",
     "text": [
      "\n",
      "----------------------------\n",
      "Source sentence: Członek Światowej Federacji Międzynarodowych Konkursów Muzycznych w Genewie.\n",
      "Target sentence: A member of the World Federation of International Music Competitions in Geneva\n",
      "Response sentence: Member of the World Federation of International Music Competitions in Geneva.\n",
      "Reward: 0.7112201452255249\n",
      "\n",
      "----------------------------\n",
      "Source sentence: To nie ma nic z tym wspólnego, tu chodzi o twoją pomoc.\n",
      "Target sentence: -l don't have any grand plan. -Who invented sandwich night? That has nothing to do with this.\n",
      "Response sentence: It's got nothing to do with this. It's about your help.\n",
      "Reward: 0.22906196117401123\n",
      "\n",
      "----------------------------\n",
      "Source sentence: Całe konstelacje nietknięte przez zarazę, nieświadome naszego cierpienia.\n",
      "Target sentence: Whole constellations, untouched by disease, oblivious to our suffering.\n",
      "Response sentence: Entire constellations untouched by the plague, unaware of our suffering.\n",
      "Reward: 0.13333334028720856\n"
     ]
    },
    {
     "name": "stderr",
     "output_type": "stream",
     "text": [
      "c:\\Users\\aleks\\Documents\\Moje dokumenty\\Studia\\Semestr 9\\USD\\USD-trl\\.venv\\lib\\site-packages\\trl\\trainer\\ppo_trainer.py:1271: UserWarning: KL divergence is starting to become negative: -1.85 - this might be a precursor for failed training. sometimes this happens because the generation kwargs are not correctly set. Please make sure that the generation kwargs are set correctly, or review your training hyperparameters.\n",
      "  warnings.warn(\n"
     ]
    },
    {
     "name": "stdout",
     "output_type": "stream",
     "text": [
      "\n",
      "----------------------------\n",
      "Source sentence: Nie potrzebuję dzisiejsze nocy wysłuchiwać twojego gówna, starcze.\n",
      "Target sentence: - I do not need whining now.\n",
      "Response sentence: I don't need to hear your shit tonight, old man.\n",
      "Reward: 0.06666667014360428\n"
     ]
    },
    {
     "name": "stderr",
     "output_type": "stream",
     "text": [
      "c:\\Users\\aleks\\Documents\\Moje dokumenty\\Studia\\Semestr 9\\USD\\USD-trl\\.venv\\lib\\site-packages\\trl\\trainer\\ppo_trainer.py:1271: UserWarning: KL divergence is starting to become negative: -1.89 - this might be a precursor for failed training. sometimes this happens because the generation kwargs are not correctly set. Please make sure that the generation kwargs are set correctly, or review your training hyperparameters.\n",
      "  warnings.warn(\n"
     ]
    },
    {
     "name": "stdout",
     "output_type": "stream",
     "text": [
      "\n",
      "----------------------------\n",
      "Source sentence: W latach 70-tych rysowałam komisky, w ktorych sama siebie oskarżałam.\n",
      "Target sentence: I did books in the '70s that were self-deprecating.\n",
      "Response sentence: In the '70s, I was drawing a comedy that I'd accused myself of.\n",
      "Reward: 0.07894736528396606\n",
      "\n",
      "----------------------------\n",
      "Source sentence: Nie będziesz czuła się tak odcięta od świata zewnętrznego.\n",
      "Target sentence: You won't feel quite so shut out from the outside world.\n",
      "Response sentence: You're not gonna feel so cut off from the outside world.\n",
      "Reward: 0.3599222004413605\n"
     ]
    },
    {
     "name": "stderr",
     "output_type": "stream",
     "text": [
      "c:\\Users\\aleks\\Documents\\Moje dokumenty\\Studia\\Semestr 9\\USD\\USD-trl\\.venv\\lib\\site-packages\\trl\\trainer\\ppo_trainer.py:1271: UserWarning: KL divergence is starting to become negative: -1.01 - this might be a precursor for failed training. sometimes this happens because the generation kwargs are not correctly set. Please make sure that the generation kwargs are set correctly, or review your training hyperparameters.\n",
      "  warnings.warn(\n"
     ]
    },
    {
     "name": "stdout",
     "output_type": "stream",
     "text": [
      "\n",
      "----------------------------\n",
      "Source sentence: A szczerze mówiąc stoję w martwym punkcie. Zajmiesz się śledztwem osobiście?\n",
      "Target sentence: And to be honest... ..I am stuck.\n",
      "Response sentence: And to be honest, I'm at a dead end.\n",
      "Reward: 0.21880505979061127\n",
      "\n",
      "----------------------------\n",
      "Source sentence: I poza tym moja żona Virginia chroni drzwi do SCHICKEL HALL\n",
      "Target sentence: AND BESIDES, MY WIFE VIRGINIA GUARDS THE DOORS OF SCHICKEL HALL\n",
      "Response sentence: And my wife Virginia's protecting the door to SCHICKEL HALL\n",
      "Reward: 0.05263157933950424\n",
      "\n",
      "----------------------------\n",
      "Source sentence: - Strzelaj. Walka z nim w sądzie... jest nieprzyjemna?\n",
      "Target sentence: Is opposing him in court kind of... uncomfortable?\n",
      "Response sentence: It's an unpleasant fight with him in court.\n",
      "Reward: 0.0714285746216774\n",
      "\n",
      "----------------------------\n",
      "Source sentence: Wiem, że mnie nienawidzisz, zatem przepraszam za to nieporozumienie.\n",
      "Target sentence: I know that you must hate me, and I just wanted to say I'm sorry about the misunderstandings.\n",
      "Response sentence: I know you hate me, so I'm sorry for the misunderstanding.\n",
      "Reward: 0.20000000298023224\n"
     ]
    },
    {
     "name": "stderr",
     "output_type": "stream",
     "text": [
      "c:\\Users\\aleks\\Documents\\Moje dokumenty\\Studia\\Semestr 9\\USD\\USD-trl\\.venv\\lib\\site-packages\\trl\\trainer\\ppo_trainer.py:1271: UserWarning: KL divergence is starting to become negative: -1.79 - this might be a precursor for failed training. sometimes this happens because the generation kwargs are not correctly set. Please make sure that the generation kwargs are set correctly, or review your training hyperparameters.\n",
      "  warnings.warn(\n"
     ]
    },
    {
     "name": "stdout",
     "output_type": "stream",
     "text": [
      "\n",
      "----------------------------\n",
      "Source sentence: Np. \"Czy zrobiłbym to z kobietą, która była mężczyzną?\".\n",
      "Target sentence: Like, would I do it with a woman that used to be a man?\n",
      "Response sentence: Like, \"Would I do it with a woman who was a man?\"\n",
      "Reward: 0.4143519997596741\n"
     ]
    },
    {
     "name": "stderr",
     "output_type": "stream",
     "text": [
      "c:\\Users\\aleks\\Documents\\Moje dokumenty\\Studia\\Semestr 9\\USD\\USD-trl\\.venv\\lib\\site-packages\\trl\\trainer\\ppo_trainer.py:1271: UserWarning: KL divergence is starting to become negative: -1.11 - this might be a precursor for failed training. sometimes this happens because the generation kwargs are not correctly set. Please make sure that the generation kwargs are set correctly, or review your training hyperparameters.\n",
      "  warnings.warn(\n"
     ]
    },
    {
     "name": "stdout",
     "output_type": "stream",
     "text": [
      "\n",
      "----------------------------\n",
      "Source sentence: Był jednym z nich, a przynajmniej za takiego go uważali.\n",
      "Target sentence: Their ranks were split, for this Theodor Herzl was not one of the Eastern Jews, not a Jew from Russia.\n",
      "Response sentence: He was one of them, or at least they thought he was.\n",
      "Reward: 0.0535714291036129\n"
     ]
    },
    {
     "name": "stderr",
     "output_type": "stream",
     "text": [
      "c:\\Users\\aleks\\Documents\\Moje dokumenty\\Studia\\Semestr 9\\USD\\USD-trl\\.venv\\lib\\site-packages\\trl\\trainer\\ppo_trainer.py:1271: UserWarning: KL divergence is starting to become negative: -1.13 - this might be a precursor for failed training. sometimes this happens because the generation kwargs are not correctly set. Please make sure that the generation kwargs are set correctly, or review your training hyperparameters.\n",
      "  warnings.warn(\n"
     ]
    },
    {
     "name": "stdout",
     "output_type": "stream",
     "text": [
      "\n",
      "----------------------------\n",
      "Source sentence: Joseph to dobry człowiek i jego testy były Neuro-negatywne.\n",
      "Target sentence: Joseph is a good man and he did test Neuro negative.\n",
      "Response sentence: Joseph's a good man, and his tests were neuro-negative.\n",
      "Reward: 0.0882352963089943\n",
      "\n",
      "----------------------------\n",
      "Source sentence: /Dowiedział się o trasie konwoju /i kazał nam cię odbić.\n",
      "Target sentence: He learned of your route and ordered us to intercept.\n",
      "Response sentence: He's learned of the convoy's tour and he's told us to take you back.\n",
      "Reward: 0.1315789520740509\n",
      "\n",
      "----------------------------\n",
      "Source sentence: Oboje wiemy, że nic się nie zdarzy, Gina, może zakończymy te gierki?\n",
      "Target sentence: We both know nothing's going to happen, Gina, so why don't we cut the act? Whoa, come here.\n",
      "Response sentence: We both know nothing's going to happen, Gina, maybe we can end these games.\n",
      "Reward: 0.3960511386394501\n",
      "\n",
      "----------------------------\n",
      "Source sentence: To miasto odwróci się od nas, gdy dowiedzą się, że chronisz szpiega.\n",
      "Target sentence: This town will turn on us if they learn you're protecting a spy.\n",
      "Response sentence: This city will turn its back on us if they find out you're protecting a spy.\n",
      "Reward: 0.5047895908355713\n"
     ]
    },
    {
     "name": "stderr",
     "output_type": "stream",
     "text": [
      "c:\\Users\\aleks\\Documents\\Moje dokumenty\\Studia\\Semestr 9\\USD\\USD-trl\\.venv\\lib\\site-packages\\trl\\trainer\\ppo_trainer.py:1271: UserWarning: KL divergence is starting to become negative: -2.43 - this might be a precursor for failed training. sometimes this happens because the generation kwargs are not correctly set. Please make sure that the generation kwargs are set correctly, or review your training hyperparameters.\n",
      "  warnings.warn(\n"
     ]
    },
    {
     "name": "stdout",
     "output_type": "stream",
     "text": [
      "\n",
      "----------------------------\n",
      "Source sentence: Biorąc pod uwagę twój stan zdrowia, pewnie ci trudno nawet w to uwierzyć.\n",
      "Target sentence: Given your present condition, you might not even make it through.\n",
      "Response sentence: Given your medical condition, it's probably hard to even believe.\n",
      "Reward: 0.11764705926179886\n",
      "\n",
      "----------------------------\n",
      "Source sentence: Po tylu latach dalej trzymasz się z tym pojebańcem?\n",
      "Target sentence: You and that crazy motherfucker still tight after all these years.\n",
      "Response sentence: After all these years, you're still hanging with this fucking guy?\n",
      "Reward: 0.07894736528396606\n",
      "\n",
      "----------------------------\n",
      "Source sentence: - Oto, czego się dowiedziałam... o doktorze Hugo Pine.\n",
      "Target sentence: - Here's that information you wanted... on Dr. Hugo Pine.\n",
      "Response sentence: Here's what I've learned... of Dr. Hugo Pine.\n",
      "Reward: 0.3136214315891266\n",
      "\n",
      "----------------------------\n",
      "Source sentence: Chcę ci powiedzieć Jody, że z Benem u boku.. możesz długo rano spać.\n",
      "Target sentence: What I mean to say is, Jody, with Ben around... you can sleep late mornings.\n",
      "Response sentence: I want to tell Jody that with Ben... you can sleep long in the morning.\n",
      "Reward: 0.26471224427223206\n",
      "\n",
      "----------------------------\n",
      "Source sentence: Co powiesz na wyjście na skrzydło i udawanie, że jesteś gremlinem?\n",
      "Target sentence: What say you go out on the wing and pretend you're a gremlin?\n",
      "Response sentence: How do you feel about getting to the wing and pretending to be a grimliner?\n",
      "Reward: 0.11363636702299118\n",
      "\n",
      "----------------------------\n",
      "Source sentence: I być może jak oni z panem skończą, to pan dostanie pracę przy odkurzaniu.\n",
      "Target sentence: Perhaps, when they're done with you... you can get a job vacuuming.\n",
      "Response sentence: And maybe when they're done with you, you're the one who gets the job of vacuuming.\n",
      "Reward: 0.2659769058227539\n"
     ]
    },
    {
     "name": "stderr",
     "output_type": "stream",
     "text": [
      "c:\\Users\\aleks\\Documents\\Moje dokumenty\\Studia\\Semestr 9\\USD\\USD-trl\\.venv\\lib\\site-packages\\trl\\trainer\\ppo_trainer.py:1271: UserWarning: KL divergence is starting to become negative: -3.26 - this might be a precursor for failed training. sometimes this happens because the generation kwargs are not correctly set. Please make sure that the generation kwargs are set correctly, or review your training hyperparameters.\n",
      "  warnings.warn(\n"
     ]
    },
    {
     "name": "stdout",
     "output_type": "stream",
     "text": [
      "\n",
      "----------------------------\n",
      "Source sentence: Wiecie, tworzenie sie Stanow, I Wojna, 11 wrzesnia.\n",
      "Target sentence: You know, formation of the Fed, World War I, 9/11.\n",
      "Response sentence: You know, creating states, and war, 11th of September.\n",
      "Reward: 0.09375\n"
     ]
    },
    {
     "name": "stderr",
     "output_type": "stream",
     "text": [
      "c:\\Users\\aleks\\Documents\\Moje dokumenty\\Studia\\Semestr 9\\USD\\USD-trl\\.venv\\lib\\site-packages\\trl\\trainer\\ppo_trainer.py:1271: UserWarning: KL divergence is starting to become negative: -1.23 - this might be a precursor for failed training. sometimes this happens because the generation kwargs are not correctly set. Please make sure that the generation kwargs are set correctly, or review your training hyperparameters.\n",
      "  warnings.warn(\n"
     ]
    },
    {
     "name": "stdout",
     "output_type": "stream",
     "text": [
      "\n",
      "----------------------------\n",
      "Source sentence: Ricardo Klement. Ricardo Klement to nie kto inny, tylko Adolf Eichmann.\n",
      "Target sentence: Ricardo Klement was none other than Adolf Eichmann.\n",
      "Response sentence: Ricardo Klement. Ricardo Klement is none other than Adolf Eichmann.\n",
      "Reward: 0.5846235156059265\n"
     ]
    },
    {
     "name": "stderr",
     "output_type": "stream",
     "text": [
      "c:\\Users\\aleks\\Documents\\Moje dokumenty\\Studia\\Semestr 9\\USD\\USD-trl\\.venv\\lib\\site-packages\\trl\\trainer\\ppo_trainer.py:1271: UserWarning: KL divergence is starting to become negative: -1.19 - this might be a precursor for failed training. sometimes this happens because the generation kwargs are not correctly set. Please make sure that the generation kwargs are set correctly, or review your training hyperparameters.\n",
      "  warnings.warn(\n"
     ]
    },
    {
     "name": "stdout",
     "output_type": "stream",
     "text": [
      "\n",
      "----------------------------\n",
      "Source sentence: Myślisz, że umieszczą nas w e własnej celi zamiast ze zwyczajnymi przestępcami.\n",
      "Target sentence: You'd think they'd put us in our own cell block instead of with the common criminals.\n",
      "Response sentence: You think they're going to put us in their own cell instead of common criminals.\n",
      "Reward: 0.2380952388048172\n"
     ]
    },
    {
     "name": "stderr",
     "output_type": "stream",
     "text": [
      "c:\\Users\\aleks\\Documents\\Moje dokumenty\\Studia\\Semestr 9\\USD\\USD-trl\\.venv\\lib\\site-packages\\trl\\trainer\\ppo_trainer.py:1271: UserWarning: KL divergence is starting to become negative: -2.87 - this might be a precursor for failed training. sometimes this happens because the generation kwargs are not correctly set. Please make sure that the generation kwargs are set correctly, or review your training hyperparameters.\n",
      "  warnings.warn(\n"
     ]
    },
    {
     "name": "stdout",
     "output_type": "stream",
     "text": [
      "\n",
      "----------------------------\n",
      "Source sentence: Nie możesz sobie pozwolić żeby stracić więcej krwi.\n",
      "Target sentence: You... you can't afford to lose more blood.\n",
      "Response sentence: You can't afford to lose any more blood.\n",
      "Reward: 0.45990243554115295\n"
     ]
    },
    {
     "name": "stderr",
     "output_type": "stream",
     "text": [
      "c:\\Users\\aleks\\Documents\\Moje dokumenty\\Studia\\Semestr 9\\USD\\USD-trl\\.venv\\lib\\site-packages\\trl\\trainer\\ppo_trainer.py:1271: UserWarning: KL divergence is starting to become negative: -1.69 - this might be a precursor for failed training. sometimes this happens because the generation kwargs are not correctly set. Please make sure that the generation kwargs are set correctly, or review your training hyperparameters.\n",
      "  warnings.warn(\n"
     ]
    },
    {
     "name": "stdout",
     "output_type": "stream",
     "text": [
      "\n",
      "----------------------------\n",
      "Source sentence: \"Czy życzy pan sobie ochrony jej w banku do powrotu szeryfa?\n",
      "Target sentence: Do you wish her guarded at the bank with the sheriff away?\n",
      "Response sentence: \"Do you wish to protect her in the bank for the return of the sheriff?\n",
      "Reward: 0.1315789520740509\n"
     ]
    },
    {
     "name": "stderr",
     "output_type": "stream",
     "text": [
      "c:\\Users\\aleks\\Documents\\Moje dokumenty\\Studia\\Semestr 9\\USD\\USD-trl\\.venv\\lib\\site-packages\\trl\\trainer\\ppo_trainer.py:1271: UserWarning: KL divergence is starting to become negative: -1.60 - this might be a precursor for failed training. sometimes this happens because the generation kwargs are not correctly set. Please make sure that the generation kwargs are set correctly, or review your training hyperparameters.\n",
      "  warnings.warn(\n"
     ]
    },
    {
     "name": "stdout",
     "output_type": "stream",
     "text": [
      "\n",
      "----------------------------\n",
      "Source sentence: Dopiero zaczynamy odkrywać prawdziwą naturę inteligencji.\n",
      "Target sentence: You see, the fact is that we're only now just beginning to understand the true nature of intelligence.\n",
      "Response sentence: We're just beginning to discover the true nature of intelligence.\n",
      "Reward: 0.3401889503002167\n"
     ]
    },
    {
     "name": "stderr",
     "output_type": "stream",
     "text": [
      "c:\\Users\\aleks\\Documents\\Moje dokumenty\\Studia\\Semestr 9\\USD\\USD-trl\\.venv\\lib\\site-packages\\trl\\trainer\\ppo_trainer.py:1271: UserWarning: KL divergence is starting to become negative: -2.51 - this might be a precursor for failed training. sometimes this happens because the generation kwargs are not correctly set. Please make sure that the generation kwargs are set correctly, or review your training hyperparameters.\n",
      "  warnings.warn(\n"
     ]
    },
    {
     "name": "stdout",
     "output_type": "stream",
     "text": [
      "\n",
      "----------------------------\n",
      "Source sentence: Podpisał wczoraj umowę z Fundacją Wiecznego Postępu.\n",
      "Target sentence: He signed a contract with the Forever Forward Foundation yesterday.\n",
      "Response sentence: He signed an agreement with the Foundation of Eternal Progress yesterday.\n",
      "Reward: 0.20000000298023224\n"
     ]
    },
    {
     "name": "stderr",
     "output_type": "stream",
     "text": [
      "c:\\Users\\aleks\\Documents\\Moje dokumenty\\Studia\\Semestr 9\\USD\\USD-trl\\.venv\\lib\\site-packages\\trl\\trainer\\ppo_trainer.py:1271: UserWarning: KL divergence is starting to become negative: -1.00 - this might be a precursor for failed training. sometimes this happens because the generation kwargs are not correctly set. Please make sure that the generation kwargs are set correctly, or review your training hyperparameters.\n",
      "  warnings.warn(\n"
     ]
    }
   ],
   "source": [
    "for epoch in range(1):\n",
    "    for text, translation in zip(train_dataset['Polish'], train_dataset['English']):\n",
    "        print(\"\\n----------------------------\")\n",
    "        print(f'Source sentence: {text}')\n",
    "        print(f'Target sentence: {translation}')\n",
    "        # encode a query\n",
    "        query_tensor = tokenizer.encode(text, return_tensors=\"pt\").to(device)\n",
    "\n",
    "        # get model response\n",
    "        response_tensor = model.generate(input_ids=query_tensor)\n",
    "        result_txt = [tokenizer.decode(response_tensor[0], skip_special_tokens=True)]\n",
    "        print(f'Response sentence: {result_txt[0]}')\n",
    "\n",
    "        # define a reward for response\n",
    "        reward = translation_reward(result_txt, translation, bleu, device)\n",
    "        print(f'Reward: {reward[0].item()}')\n",
    "\n",
    "        # train model for one step with ppo\n",
    "        train_stats = ppo_trainer.step([query_tensor[0]], [response_tensor[0]], reward)\n",
    "        ppo_trainer.log_stats(train_stats, {text:result_txt}, reward)"
   ]
  }
 ],
 "metadata": {
  "kernelspec": {
   "display_name": "env",
   "language": "python",
   "name": "python3"
  },
  "language_info": {
   "codemirror_mode": {
    "name": "ipython",
    "version": 3
   },
   "file_extension": ".py",
   "mimetype": "text/x-python",
   "name": "python",
   "nbconvert_exporter": "python",
   "pygments_lexer": "ipython3",
   "version": "3.10.11"
  },
  "vscode": {
   "interpreter": {
    "hash": "4c8ff454cd947027f86954d72bf940c689a97dcc494eb53cfe4813862c6065fe"
   }
  }
 },
 "nbformat": 4,
 "nbformat_minor": 4
}
