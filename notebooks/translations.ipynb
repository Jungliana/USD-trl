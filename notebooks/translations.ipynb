{
 "cells": [
  {
   "cell_type": "code",
   "execution_count": 8,
   "metadata": {},
   "outputs": [],
   "source": [
    "# imports\n",
    "import torch\n",
    "import evaluate\n",
    "from transformers import AutoTokenizer\n",
    "from trl import PPOTrainer, PPOConfig, AutoModelForSeq2SeqLMWithValueHead, create_reference_model"
   ]
  },
  {
   "cell_type": "code",
   "execution_count": 9,
   "metadata": {},
   "outputs": [],
   "source": [
    "pl_texts = [\"Stół z powyłamywanymi nogami.\",\n",
    "            \"Król Karol kupił królowej Karolinie korale koloru koralowego.\",\n",
    "            \"Lojalna Jola i nielojalna Jola.\",\n",
    "            \"W czasie suszy szosa sucha.\",\n",
    "            \"I cóż że ze Szwecji?\",\n",
    "            \"Czy rak trzyma w szczypcach strzęp szczawiu czy trzy części trzciny?\",\n",
    "            \"W Szczebrzeszynie chrząszcz brzmi w trzcinie.\",\n",
    "            \"Przeleciały trzy pstre przepiórzyce przez trzy pstre kamienice.\",\n",
    "            \"Pójdźże, kiń tę chmurność w głąb flaszy.\",\n",
    "            \"Drabina z powyłamywanymi szczeblami.\",\n",
    "            ]\n",
    "\n",
    "en_texts = [\"A table with broken legs.\",\n",
    "            \"King Carol bought coral-coloured beads for Queen Caroline.\",\n",
    "            \"Loyal Jola and disloyal Jola.\",\n",
    "            \"In dry weather, the street is dry.\",\n",
    "            \"So what that it is from Sweden?\",\n",
    "            \"Does the crab hold in its claws a piece of dock or three pieces of reed?\",\n",
    "            \"In Szczebrzeszyn, a beetle buzzes in the reed.\",\n",
    "            \"Three speckled quails flew past three speckled tenement houses.\",\n",
    "            \"Come on, stick this cloud into the bottom of the flask.\",\n",
    "            \"A ladder with broken rungs.\",\n",
    "            ]"
   ]
  },
  {
   "cell_type": "code",
   "execution_count": 10,
   "metadata": {},
   "outputs": [
    {
     "name": "stderr",
     "output_type": "stream",
     "text": [
      "c:\\Users\\aleks\\Documents\\Moje dokumenty\\Studia\\Semestr 9\\USD\\USD-trl\\.venv\\lib\\site-packages\\transformers\\models\\marian\\tokenization_marian.py:197: UserWarning: Recommended: pip install sacremoses.\n",
      "  warnings.warn(\"Recommended: pip install sacremoses.\")\n"
     ]
    }
   ],
   "source": [
    "# get models\n",
    "model = AutoModelForSeq2SeqLMWithValueHead.from_pretrained('Helsinki-NLP/opus-mt-pl-en').to('cuda')\n",
    "model_ref = create_reference_model(model).to('cuda')\n",
    "\n",
    "tokenizer = AutoTokenizer.from_pretrained('Helsinki-NLP/opus-mt-pl-en')"
   ]
  },
  {
   "cell_type": "code",
   "execution_count": 11,
   "metadata": {},
   "outputs": [
    {
     "name": "stderr",
     "output_type": "stream",
     "text": [
      "c:\\Users\\aleks\\Documents\\Moje dokumenty\\Studia\\Semestr 9\\USD\\USD-trl\\.venv\\lib\\site-packages\\trl\\trainer\\ppo_trainer.py:257: UserWarning: No dataset is provided. Make sure to set config.batch_size to the correct value before training.\n",
      "  warnings.warn(\n"
     ]
    }
   ],
   "source": [
    "# initialize trainer\n",
    "ppo_config = PPOConfig(\n",
    "    batch_size=1,\n",
    ")\n",
    "\n",
    "# create a ppo trainer\n",
    "ppo_trainer = PPOTrainer(ppo_config, model, model_ref, tokenizer)\n",
    "\n",
    "# reward model\n",
    "bleu = evaluate.load(\"bleu\")"
   ]
  },
  {
   "cell_type": "code",
   "execution_count": 17,
   "metadata": {},
   "outputs": [
    {
     "name": "stdout",
     "output_type": "stream",
     "text": [
      "\n",
      "----------------------------\n",
      "Source sentence: Stół z powyłamywanymi nogami.\n",
      "Target sentence: A table with broken legs.\n",
      "Response sentence: The broken-leg table.\n",
      "BLEU reward: 0.0\n",
      "\n",
      "----------------------------\n",
      "Source sentence: Król Karol kupił królowej Karolinie korale koloru koralowego.\n",
      "Target sentence: King Carol bought coral-coloured beads for Queen Caroline.\n",
      "Response sentence: King Carol had bought Queen Carolina corals of coral colors.\n",
      "BLEU reward: 0.0\n",
      "\n",
      "----------------------------\n",
      "Source sentence: Lojalna Jola i nielojalna Jola.\n",
      "Target sentence: Loyal Jola and disloyal Jola.\n",
      "Response sentence: Loyalty Yola and Loyalty Yola.\n",
      "BLEU reward: 0.0\n",
      "\n",
      "----------------------------\n",
      "Source sentence: W czasie suszy szosa sucha.\n",
      "Target sentence: In dry weather, the street is dry.\n",
      "Response sentence: During droughts dry road.\n",
      "BLEU reward: 0.0\n",
      "\n",
      "----------------------------\n",
      "Source sentence: I cóż że ze Szwecji?\n",
      "Target sentence: So what that it is from Sweden?\n",
      "Response sentence: And what is that from Sweden?\n",
      "BLEU reward: 0.0\n",
      "\n",
      "----------------------------\n",
      "Source sentence: Czy rak trzyma w szczypcach strzęp szczawiu czy trzy części trzciny?\n",
      "Target sentence: Does the crab hold in its claws a piece of dock or three pieces of reed?\n",
      "Response sentence: Does cancer keep shrapnel shrapnel or three parts of reeds?\n",
      "BLEU reward: 0.0\n",
      "\n",
      "----------------------------\n",
      "Source sentence: W Szczebrzeszynie chrząszcz brzmi w trzcinie.\n",
      "Target sentence: In Szczebrzeszyn, a beetle buzzes in the reed.\n",
      "Response sentence: In Szebebrezyn beetles sound in reeds.\n",
      "BLEU reward: 0.0\n",
      "\n",
      "----------------------------\n",
      "Source sentence: Przeleciały trzy pstre przepiórzyce przez trzy pstre kamienice.\n",
      "Target sentence: Three speckled quails flew past three speckled tenement houses.\n",
      "Response sentence: They've flown three fresh quails through three bumped-up tenements.\n",
      "BLEU reward: 0.0\n",
      "\n",
      "----------------------------\n",
      "Source sentence: Pójdźże, kiń tę chmurność w głąb flaszy.\n",
      "Target sentence: Come on, stick this cloud into the bottom of the flask.\n",
      "Response sentence: Come. Movies. Clouds deep inside.\n",
      "BLEU reward: 0.0\n",
      "\n",
      "----------------------------\n",
      "Source sentence: Drabina z powyłamywanymi szczeblami.\n",
      "Target sentence: A ladder with broken rungs.\n",
      "Response sentence: Ladder with blasted levels.\n",
      "BLEU reward: 0.0\n"
     ]
    }
   ],
   "source": [
    "for text, translation in zip(pl_texts, en_texts):\n",
    "    print(\"\\n----------------------------\")\n",
    "    print(f'Source sentence: {text}')\n",
    "    print(f'Target sentence: {translation}')\n",
    "    # encode a query\n",
    "    query_tensor = tokenizer.encode(text, return_tensors=\"pt\").to('cuda')\n",
    "\n",
    "    # get model response\n",
    "    response_tensor = model.generate(input_ids=query_tensor)\n",
    "    result_txt = [tokenizer.decode(response_tensor[0], skip_special_tokens=True)]\n",
    "    print(f'Response sentence: {result_txt[0]}')\n",
    "\n",
    "    # define a reward for response\n",
    "    results = bleu.compute(predictions=result_txt, references=[translation])\n",
    "    reward = [torch.tensor(results['bleu'], device=model.pretrained_model.device)]\n",
    "    print(f'BLEU reward: {results[\"bleu\"]}')\n",
    "\n",
    "    # train model for one step with ppo\n",
    "    train_stats = ppo_trainer.step([query_tensor[0]], [response_tensor[0]], reward)"
   ]
  },
  {
   "cell_type": "code",
   "execution_count": 16,
   "metadata": {},
   "outputs": [
    {
     "data": {
      "text/plain": [
       "{'bleu': 0.0,\n",
       " 'precisions': [0.4, 0.0, 0.0, 0.0],\n",
       " 'brevity_penalty': 0.8187307530779819,\n",
       " 'length_ratio': 0.8333333333333334,\n",
       " 'translation_length': 5,\n",
       " 'reference_length': 6}"
      ]
     },
     "execution_count": 16,
     "metadata": {},
     "output_type": "execute_result"
    }
   ],
   "source": [
    "results"
   ]
  }
 ],
 "metadata": {
  "kernelspec": {
   "display_name": "env",
   "language": "python",
   "name": "python3"
  },
  "language_info": {
   "codemirror_mode": {
    "name": "ipython",
    "version": 3
   },
   "file_extension": ".py",
   "mimetype": "text/x-python",
   "name": "python",
   "nbconvert_exporter": "python",
   "pygments_lexer": "ipython3",
   "version": "3.10.11"
  },
  "vscode": {
   "interpreter": {
    "hash": "4c8ff454cd947027f86954d72bf940c689a97dcc494eb53cfe4813862c6065fe"
   }
  }
 },
 "nbformat": 4,
 "nbformat_minor": 4
}
